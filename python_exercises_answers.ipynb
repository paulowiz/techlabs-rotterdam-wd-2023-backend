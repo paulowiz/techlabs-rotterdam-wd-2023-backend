{
  "nbformat": 4,
  "nbformat_minor": 0,
  "metadata": {
    "colab": {
      "provenance": []
    },
    "kernelspec": {
      "name": "python3",
      "display_name": "Python 3"
    },
    "language_info": {
      "name": "python"
    }
  },
  "cells": [
    {
      "cell_type": "code",
      "execution_count": null,
      "metadata": {
        "colab": {
          "base_uri": "https://localhost:8080/"
        },
        "id": "_FDlgrkbGO8D",
        "outputId": "db99f381-3809-4f70-f473-6ae17ddde342"
      },
      "outputs": [
        {
          "output_type": "stream",
          "name": "stdout",
          "text": [
            "The result is 600\n",
            "The result is 70\n"
          ]
        }
      ],
      "source": [
        "# Exercise 1\n",
        "def multiplication_or_sum(num1, num2):\n",
        "    # calculate product of two number\n",
        "    product = num1 * num2\n",
        "    # check if product is less then 1000\n",
        "    if product <= 1000:\n",
        "        return product\n",
        "    else:\n",
        "        # product is greater than 1000 calculate sum\n",
        "        return num1 + num2\n",
        "\n",
        "# first condition\n",
        "result = multiplication_or_sum(20, 30)\n",
        "print(\"The result is\", result)\n",
        "\n",
        "# Second condition\n",
        "result = multiplication_or_sum(40, 30)\n",
        "print(\"The result is\", result)"
      ]
    },
    {
      "cell_type": "code",
      "source": [
        "# Exercise 2\n",
        "\n",
        "print(\"Printing current and previous number and their sum in a range(10)\")\n",
        "previous_num = 0\n",
        "\n",
        "# loop from 1 to 10\n",
        "for i in range(1, 11):\n",
        "    x_sum = previous_num + i\n",
        "    print(\"Current Number\", i, \"Previous Number \", previous_num, \" Sum: \", x_sum)\n",
        "    # modify previous number\n",
        "    # set it to the current number\n",
        "    previous_num = i"
      ],
      "metadata": {
        "colab": {
          "base_uri": "https://localhost:8080/"
        },
        "id": "gb7sN0dQH0C_",
        "outputId": "b891f9a1-8624-4a46-e348-5de3323a1f2a"
      },
      "execution_count": null,
      "outputs": [
        {
          "output_type": "stream",
          "name": "stdout",
          "text": [
            "Printing current and previous number and their sum in a range(10)\n",
            "Current Number 1 Previous Number  0  Sum:  1\n",
            "Current Number 2 Previous Number  1  Sum:  3\n",
            "Current Number 3 Previous Number  2  Sum:  5\n",
            "Current Number 4 Previous Number  3  Sum:  7\n",
            "Current Number 5 Previous Number  4  Sum:  9\n",
            "Current Number 6 Previous Number  5  Sum:  11\n",
            "Current Number 7 Previous Number  6  Sum:  13\n",
            "Current Number 8 Previous Number  7  Sum:  15\n",
            "Current Number 9 Previous Number  8  Sum:  17\n",
            "Current Number 10 Previous Number  9  Sum:  19\n"
          ]
        }
      ]
    },
    {
      "cell_type": "code",
      "source": [
        "# Exercise 3\n",
        "print('My', 'Name', 'Is', 'James', sep='**')"
      ],
      "metadata": {
        "colab": {
          "base_uri": "https://localhost:8080/"
        },
        "id": "QZLNyb8oHyVX",
        "outputId": "77407877-806f-4561-b494-fc24860e5976"
      },
      "execution_count": null,
      "outputs": [
        {
          "output_type": "stream",
          "name": "stdout",
          "text": [
            "My**Name**Is**James\n"
          ]
        }
      ]
    },
    {
      "cell_type": "code",
      "source": [
        "# Exercise 4\n",
        "\n",
        "def first_last_same(numberList):\n",
        "    print(\"Given list:\", numberList)\n",
        "\n",
        "    first_num = numberList[0]\n",
        "    last_num = numberList[-1]\n",
        "\n",
        "    if first_num == last_num:\n",
        "        return True\n",
        "    else:\n",
        "        return False\n",
        "\n",
        "numbers_x = [10, 20, 30, 40, 10]\n",
        "print(\"result is\", first_last_same(numbers_x))\n",
        "\n",
        "numbers_y = [75, 65, 35, 75, 30]\n",
        "print(\"result is\", first_last_same(numbers_y))"
      ],
      "metadata": {
        "colab": {
          "base_uri": "https://localhost:8080/"
        },
        "id": "TRKdmSAMIL27",
        "outputId": "2695bb14-c9fa-40fd-f744-ea647ba91a37"
      },
      "execution_count": null,
      "outputs": [
        {
          "output_type": "stream",
          "name": "stdout",
          "text": [
            "Given list: [10, 20, 30, 40, 10]\n",
            "result is True\n",
            "Given list: [75, 65, 35, 75, 30]\n",
            "result is False\n"
          ]
        }
      ]
    },
    {
      "cell_type": "code",
      "source": [
        "# Exercise 5\n",
        "num = 458.549999\n",
        "print('%.2f' % num)\n",
        "import math\n",
        "math.trunc(num)\n",
        "\"{:.3f}\".format(num)"
      ],
      "metadata": {
        "colab": {
          "base_uri": "https://localhost:8080/",
          "height": 53
        },
        "id": "Q1EK4U5PIN9y",
        "outputId": "d5c35e85-1e3d-42e1-bb68-20f3ecc824f5"
      },
      "execution_count": null,
      "outputs": [
        {
          "output_type": "stream",
          "name": "stdout",
          "text": [
            "458.55\n"
          ]
        },
        {
          "output_type": "execute_result",
          "data": {
            "text/plain": [
              "'458.550'"
            ],
            "application/vnd.google.colaboratory.intrinsic+json": {
              "type": "string"
            }
          },
          "metadata": {},
          "execution_count": 13
        }
      ]
    },
    {
      "cell_type": "markdown",
      "source": [
        "Reference https://pynative.com/python-basic-exercise-for-beginners/"
      ],
      "metadata": {
        "id": "hAnRktMMKn_l"
      }
    }
  ]
}