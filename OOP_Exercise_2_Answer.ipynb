{
  "nbformat": 4,
  "nbformat_minor": 0,
  "metadata": {
    "colab": {
      "provenance": []
    },
    "kernelspec": {
      "name": "python3",
      "display_name": "Python 3"
    },
    "language_info": {
      "name": "python"
    }
  },
  "cells": [
    {
      "cell_type": "code",
      "execution_count": null,
      "metadata": {
        "id": "cCzTOeuoz8n-"
      },
      "outputs": [],
      "source": []
    },
    {
      "cell_type": "markdown",
      "source": [
        "# Joke Fetcher and Saver\n",
        "\n",
        "## Background:\n",
        "In this exercise, you will create a Python program to fetch jokes from a free API and save them to a text file. This exercise will help you practice Object-Oriented Programming (OOP) by designing and implementing classes to handle different aspects of the task.\n",
        "\n",
        "## Problem Description:\n",
        "Your task is to create two classes, JokeFetcher and JokeSaver, and write a Python program that utilizes these classes to fetch jokes from the API (https://official-joke-api.appspot.com/random_joke) and save them to a text file.\n",
        "\n",
        "## JokeFetcher Class:\n",
        "\n",
        "###  Create a JokeFetcher class with the following methods:\n",
        "__init__(self, api_url): Initialize the class with the API URL.\n",
        "fetch_joke(self): Send an HTTP GET request to the API URL and retrieve a random joke. Return the joke as a tuple of strings, where the first string represents the joke setup, and the second string represents the punchline. Handle exceptions for failed API requests.\n",
        "JokeSaver Class:\n",
        "\n",
        "### Create a JokeSaver class with the following methods:\n",
        "__init__(self, file_name): Initialize the class with the name of the text file where jokes will be saved.\n",
        "save_joke(self, setup, punchline): Append the setup and punchline of a joke to the text file specified during initialization. Each joke should be formatted with \"Setup:\" and \"Punchline:\" labels. Add newline characters between jokes.\n",
        "Main Program:\n",
        "\n",
        "## In the main part of your program:\n",
        "Create instances of the JokeFetcher and JokeSaver classes.\n",
        "Prompt the user to specify the number of jokes they want to fetch and save.\n",
        "Use a loop to fetch the specified number of jokes from the API and save them to the text file using the JokeFetcher and JokeSaver instances.\n",
        "Display a success message after each joke is saved.\n",
        "Testing:\n",
        "\n",
        "Test your program by fetching and saving a few jokes.\n",
        "Ensure that the saved text file contains the jokes in the specified format.\n",
        "Constraints:\n",
        "\n",
        "The API URL is fixed as \"https://official-joke-api.appspot.com/random_joke.\"\n",
        "The text file name for saving jokes is fixed as \"jokes.txt.\"\n",
        "The number of jokes to fetch and save is a positive integer.\n",
        "## Note:\n",
        "Feel free to add error handling, improve the user interface, or extend the functionality of your classes and program as needed. The goal is to create a functional and well-structured solution using OOP principles."
      ],
      "metadata": {
        "id": "RNrJe3mU0ALZ"
      }
    },
    {
      "cell_type": "code",
      "source": [
        "import requests\n",
        "\n",
        "class JokeFetcher:\n",
        "    def __init__(self, api_url):\n",
        "        self.api_url = api_url\n",
        "\n",
        "    def fetch_joke(self):\n",
        "        try:\n",
        "            response = requests.get(self.api_url)\n",
        "            response.raise_for_status()  # Raise an exception if the response status code is not in the 200 range\n",
        "            joke_data = response.json()\n",
        "            return joke_data.get(\"setup\", \"\"), joke_data.get(\"punchline\", \"\")\n",
        "        except requests.exceptions.RequestException as e:\n",
        "            print(f\"Error fetching joke: {e}\")\n",
        "            return None, None\n",
        "\n",
        "class JokeSaver:\n",
        "    def __init__(self, file_name):\n",
        "        self.file_name = file_name\n",
        "\n",
        "    def save_joke(self, setup, punchline):\n",
        "        try:\n",
        "            with open(self.file_name, \"a\") as file:\n",
        "                file.write(\"Setup: \" + setup + \"\\n\")\n",
        "                file.write(\"Punchline: \" + punchline + \"\\n\\n\")\n",
        "                print(\"Joke saved successfully.\")\n",
        "        except Exception as e:\n",
        "            print(f\"Error saving joke: {e}\")\n",
        "\n",
        "# Usage example\n",
        "if __name__ == \"__main__\":\n",
        "    api_url = \"https://official-joke-api.appspot.com/random_joke\"\n",
        "    fetcher = JokeFetcher(api_url)\n",
        "    saver = JokeSaver(\"jokes.txt\")\n",
        "\n",
        "    num_jokes_to_fetch = 3  # You can change this to fetch a different number of jokes\n",
        "\n",
        "    for _ in range(num_jokes_to_fetch):\n",
        "        setup, punchline = fetcher.fetch_joke()\n",
        "        if setup and punchline:\n",
        "            saver.save_joke(setup, punchline)"
      ],
      "metadata": {
        "colab": {
          "base_uri": "https://localhost:8080/"
        },
        "id": "YxemAWUQ0pQG",
        "outputId": "e762b825-6ed0-434d-aabf-f3dbdd580e42"
      },
      "execution_count": null,
      "outputs": [
        {
          "output_type": "stream",
          "name": "stdout",
          "text": [
            "Joke saved successfully.\n",
            "Joke saved successfully.\n",
            "Joke saved successfully.\n"
          ]
        }
      ]
    },
    {
      "cell_type": "code",
      "source": [],
      "metadata": {
        "id": "APQnnjo-1Lhf"
      },
      "execution_count": null,
      "outputs": []
    }
  ]
}