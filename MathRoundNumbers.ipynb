{
  "nbformat": 4,
  "nbformat_minor": 0,
  "metadata": {
    "colab": {
      "provenance": []
    },
    "kernelspec": {
      "name": "python3",
      "display_name": "Python 3"
    },
    "language_info": {
      "name": "python"
    }
  },
  "cells": [
    {
      "cell_type": "code",
      "execution_count": 1,
      "metadata": {
        "colab": {
          "base_uri": "https://localhost:8080/"
        },
        "id": "qa5jVUSa7N0r",
        "outputId": "662b08de-33c9-4bff-db1a-8823ac1c3aaf"
      },
      "outputs": [
        {
          "output_type": "stream",
          "name": "stdout",
          "text": [
            "2.36\n",
            "2.35\n"
          ]
        }
      ],
      "source": [
        "import math\n",
        "v = 2.35999\n",
        "print(math.ceil(v*100)/100)  # -> 2.36\n",
        "print(math.floor(v*100)/100)  # -> 2.35"
      ]
    },
    {
      "cell_type": "code",
      "source": [],
      "metadata": {
        "id": "qw0lWLme7Oct"
      },
      "execution_count": null,
      "outputs": []
    }
  ]
}